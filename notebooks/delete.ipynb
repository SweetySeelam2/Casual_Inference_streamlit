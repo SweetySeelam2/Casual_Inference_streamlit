{
 "cells": [
  {
   "cell_type": "markdown",
   "id": "ed1ca0dc-c7d1-416c-85f9-8e4d9b5698d1",
   "metadata": {},
   "source": [
    "# Causal Impact of Amazon Prime Membership on Customer Purchase Behavior: A Data-Driven Study"
   ]
  },
  {
   "cell_type": "markdown",
   "id": "4957e130-49c0-4a7d-b65c-209a60c8a8e6",
   "metadata": {},
   "source": [
    "Table of Contents"
   ]
  },
  {
   "cell_type": "markdown",
   "id": "641db728-1910-40ac-b538-b0202fc962f3",
   "metadata": {},
   "source": []
  },
  {
   "cell_type": "markdown",
   "id": "db468495-5bde-4553-bc0f-04666ab779cc",
   "metadata": {},
   "source": []
  },
  {
   "cell_type": "markdown",
   "id": "8631be8e-e7d7-4bb4-b57a-aee2b92c8cd5",
   "metadata": {},
   "source": []
  },
  {
   "cell_type": "markdown",
   "id": "86935ca6-4f82-4ac9-b306-079b707cc481",
   "metadata": {},
   "source": []
  },
  {
   "cell_type": "code",
   "execution_count": null,
   "id": "64244475-2aa4-46c3-8915-60751b09b224",
   "metadata": {},
   "outputs": [],
   "source": []
  }
 ],
 "metadata": {
  "kernelspec": {
   "display_name": "Python (causalml-env)",
   "language": "python",
   "name": "causalml-env"
  },
  "language_info": {
   "codemirror_mode": {
    "name": "ipython",
    "version": 3
   },
   "file_extension": ".py",
   "mimetype": "text/x-python",
   "name": "python",
   "nbconvert_exporter": "python",
   "pygments_lexer": "ipython3",
   "version": "3.10.16"
  }
 },
 "nbformat": 4,
 "nbformat_minor": 5
}
